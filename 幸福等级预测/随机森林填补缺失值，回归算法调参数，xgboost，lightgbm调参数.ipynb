{
 "cells": [
  {
   "cell_type": "code",
   "execution_count": 1,
   "metadata": {},
   "outputs": [],
   "source": [
    "import numpy as np\n",
    "import pandas as pd\n",
    "import matplotlib.pyplot as plt"
   ]
  },
  {
   "cell_type": "code",
   "execution_count": 2,
   "metadata": {},
   "outputs": [],
   "source": [
    "#  读入数据\n",
    "data_train = pd.read_csv(r'happiness_train_complete.csv',encoding='gbk')\n",
    "data_test = pd.read_csv(r'happiness_test_complete.csv',encoding='gbk')"
   ]
  },
  {
   "cell_type": "code",
   "execution_count": 3,
   "metadata": {},
   "outputs": [
    {
     "data": {
      "text/plain": [
       "array([ 4,  5,  2,  3,  1, -8], dtype=int64)"
      ]
     },
     "execution_count": 3,
     "metadata": {},
     "output_type": "execute_result"
    }
   ],
   "source": [
    "data_train['happiness'].unique()"
   ]
  },
  {
   "cell_type": "code",
   "execution_count": 4,
   "metadata": {},
   "outputs": [],
   "source": [
    "#  将-8替换为缺失值并删除\n",
    "data_train.loc[:,'happiness'] = list(map(lambda x:x if x > 0 else np.nan,data_train.loc[:,'happiness']))"
   ]
  },
  {
   "cell_type": "code",
   "execution_count": 5,
   "metadata": {},
   "outputs": [],
   "source": [
    "#  删除缺失值\n",
    "data_train.dropna(subset=['happiness'],axis=0,inplace=True)"
   ]
  },
  {
   "cell_type": "code",
   "execution_count": 6,
   "metadata": {},
   "outputs": [],
   "source": [
    "#  恢复index\n",
    "data_train.reset_index(inplace=True)"
   ]
  },
  {
   "cell_type": "code",
   "execution_count": 7,
   "metadata": {},
   "outputs": [],
   "source": [
    "data_trains = data_train.iloc[:,3:]\n",
    "data_tests = data_test.iloc[:,1:]"
   ]
  },
  {
   "cell_type": "code",
   "execution_count": 8,
   "metadata": {},
   "outputs": [
    {
     "name": "stdout",
     "output_type": "stream",
     "text": [
      "Training data shape: (7988, 138)\n",
      "Testing data shape: (2968, 138)\n"
     ]
    }
   ],
   "source": [
    "print('Training data shape:',data_trains.shape)\n",
    "print('Testing data shape:',data_tests.shape)\n"
   ]
  },
  {
   "cell_type": "code",
   "execution_count": 9,
   "metadata": {},
   "outputs": [],
   "source": [
    "#  合并两个数据集\n",
    "data = pd.concat([data_trains,data_tests])"
   ]
  },
  {
   "cell_type": "code",
   "execution_count": 10,
   "metadata": {},
   "outputs": [],
   "source": [
    "data.reset_index(inplace=True)"
   ]
  },
  {
   "cell_type": "code",
   "execution_count": 11,
   "metadata": {},
   "outputs": [],
   "source": [
    "data = data.iloc[:,1:]"
   ]
  },
  {
   "cell_type": "code",
   "execution_count": 12,
   "metadata": {},
   "outputs": [],
   "source": [
    "#  导出合并的数据集于本地\n",
    "data.to_csv(r'我是合并的数据集.csv',index=False)"
   ]
  },
  {
   "cell_type": "code",
   "execution_count": 13,
   "metadata": {},
   "outputs": [
    {
     "name": "stdout",
     "output_type": "stream",
     "text": [
      "survey_type 的异常值个数为：0\n",
      "province 的异常值个数为：0\n",
      "city 的异常值个数为：0\n",
      "county 的异常值个数为：0\n",
      "gender 的异常值个数为：0\n",
      "birth 的异常值个数为：0\n",
      "nationality 的异常值个数为：20\n",
      "religion 的异常值个数为：142\n",
      "religion_freq 的异常值个数为：22\n",
      "edu 的异常值个数为：17\n",
      "edu_status 的异常值个数为：36\n",
      "edu_yr 的异常值个数为：1673\n",
      "income 的异常值个数为：598\n",
      "political 的异常值个数为：45\n",
      "join_party 的异常值个数为：120\n",
      "floor_area 的异常值个数为：0\n",
      "property_0 的异常值个数为：0\n",
      "property_1 的异常值个数为：0\n",
      "property_2 的异常值个数为：0\n",
      "property_3 的异常值个数为：0\n",
      "property_4 的异常值个数为：0\n",
      "property_5 的异常值个数为：0\n",
      "property_6 的异常值个数为：0\n",
      "property_7 的异常值个数为：0\n",
      "property_8 的异常值个数为：0\n",
      "height_cm 的异常值个数为：0\n",
      "weight_jin 的异常值个数为：0\n",
      "health 的异常值个数为：5\n",
      "health_problem 的异常值个数为：50\n",
      "depression 的异常值个数为：24\n",
      "hukou 的异常值个数为：0\n",
      "hukou_loc 的异常值个数为：0\n",
      "media_1 的异常值个数为：1\n",
      "media_2 的异常值个数为：3\n",
      "media_3 的异常值个数为：3\n",
      "media_4 的异常值个数为：3\n",
      "media_5 的异常值个数为：16\n",
      "media_6 的异常值个数为：19\n",
      "leisure_1 的异常值个数为：5\n",
      "leisure_2 的异常值个数为：19\n",
      "leisure_3 的异常值个数为：19\n",
      "leisure_4 的异常值个数为：14\n",
      "leisure_5 的异常值个数为：90\n",
      "leisure_6 的异常值个数为：19\n",
      "leisure_7 的异常值个数为：42\n",
      "leisure_8 的异常值个数为：22\n",
      "leisure_9 的异常值个数为：25\n",
      "leisure_10 的异常值个数为：45\n",
      "leisure_11 的异常值个数为：46\n",
      "leisure_12 的异常值个数为：35\n",
      "socialize 的异常值个数为：4\n",
      "relax 的异常值个数为：20\n",
      "learn 的异常值个数为：26\n",
      "social_neighbor 的异常值个数为：14\n",
      "social_friend 的异常值个数为：58\n",
      "socia_outing 的异常值个数为：67\n",
      "equity 的异常值个数为：61\n",
      "class 的异常值个数为：101\n",
      "class_10_before 的异常值个数为：143\n",
      "class_10_after 的异常值个数为：632\n",
      "class_14 的异常值个数为：186\n",
      "work_exper 的异常值个数为：0\n",
      "work_status 的异常值个数为：34\n",
      "work_yr 的异常值个数为：207\n",
      "work_type 的异常值个数为：91\n",
      "work_manage 的异常值个数为：85\n",
      "insur_1 的异常值个数为：50\n",
      "insur_2 的异常值个数为：160\n",
      "insur_3 的异常值个数为：217\n",
      "insur_4 的异常值个数为：245\n",
      "family_income 的异常值个数为：922\n",
      "family_m 的异常值个数为：32\n",
      "family_status 的异常值个数为：60\n",
      "house 的异常值个数为：171\n",
      "car 的异常值个数为：11\n",
      "invest_0 的异常值个数为：0\n",
      "invest_1 的异常值个数为：0\n",
      "invest_2 的异常值个数为：0\n",
      "invest_3 的异常值个数为：0\n",
      "invest_4 的异常值个数为：0\n",
      "invest_5 的异常值个数为：0\n",
      "invest_6 的异常值个数为：0\n",
      "invest_7 的异常值个数为：0\n",
      "invest_8 的异常值个数为：0\n",
      "son 的异常值个数为：13\n",
      "daughter 的异常值个数为：15\n",
      "minor_child 的异常值个数为：11\n",
      "marital 的异常值个数为：0\n",
      "marital_1st 的异常值个数为：766\n",
      "s_birth 的异常值个数为：0\n",
      "marital_now 的异常值个数为：486\n",
      "s_edu 的异常值个数为：42\n",
      "s_political 的异常值个数为：22\n",
      "s_hukou 的异常值个数为：21\n",
      "s_income 的异常值个数为：688\n",
      "s_work_exper 的异常值个数为：0\n",
      "s_work_status 的异常值个数为：38\n",
      "s_work_type 的异常值个数为：56\n",
      "f_birth 的异常值个数为：4654\n",
      "f_edu 的异常值个数为：831\n",
      "f_political 的异常值个数为：280\n",
      "f_work_14 的异常值个数为：415\n",
      "m_birth 的异常值个数为：4438\n",
      "m_edu 的异常值个数为：680\n",
      "m_political 的异常值个数为：210\n",
      "m_work_14 的异常值个数为：402\n",
      "status_peer 的异常值个数为：62\n",
      "status_3_before 的异常值个数为：55\n",
      "view 的异常值个数为：300\n",
      "inc_ability 的异常值个数为：1319\n",
      "inc_exp 的异常值个数为：1494\n",
      "trust_1 的异常值个数为：107\n",
      "trust_2 的异常值个数为：311\n",
      "trust_3 的异常值个数为：1393\n",
      "trust_4 的异常值个数为：1407\n",
      "trust_5 的异常值个数为：61\n",
      "trust_6 的异常值个数为：1559\n",
      "trust_7 的异常值个数为：307\n",
      "trust_8 的异常值个数为：1378\n",
      "trust_9 的异常值个数为：644\n",
      "trust_10 的异常值个数为：2447\n",
      "trust_11 的异常值个数为：5450\n",
      "trust_12 的异常值个数为：3377\n",
      "trust_13 的异常值个数为：211\n",
      "neighbor_familiarity 的异常值个数为：11\n",
      "public_service_1 的异常值个数为：316\n",
      "public_service_2 的异常值个数为：230\n",
      "public_service_3 的异常值个数为：586\n",
      "public_service_4 的异常值个数为：442\n",
      "public_service_5 的异常值个数为：508\n",
      "public_service_6 的异常值个数为：319\n",
      "public_service_7 的异常值个数为：403\n",
      "public_service_8 的异常值个数为：583\n",
      "public_service_9 的异常值个数为：402\n"
     ]
    }
   ],
   "source": [
    "#  统计每个列的异常值个数\n",
    "#  取值为负数的定义为异常值。\n",
    "#  调查数据表不能有负数出现。\n",
    "columns = data.columns\n",
    "for column in columns:\n",
    "    if data[column].dtype != 'object':\n",
    "        print('%s 的异常值个数为：%d' % (column,len(data.loc[data[column] < 0,:][column])))"
   ]
  },
  {
   "cell_type": "code",
   "execution_count": 14,
   "metadata": {},
   "outputs": [
    {
     "name": "stdout",
     "output_type": "stream",
     "text": [
      "survey_type 的异常值个数为：0\n",
      "province 的异常值个数为：0\n",
      "city 的异常值个数为：0\n",
      "county 的异常值个数为：0\n",
      "gender 的异常值个数为：0\n",
      "birth 的异常值个数为：0\n",
      "nationality 的异常值个数为：0\n",
      "religion 的异常值个数为：0\n",
      "religion_freq 的异常值个数为：0\n",
      "edu 的异常值个数为：0\n",
      "edu_status 的异常值个数为：0\n",
      "edu_yr 的异常值个数为：0\n",
      "income 的异常值个数为：0\n",
      "political 的异常值个数为：0\n",
      "join_party 的异常值个数为：0\n",
      "floor_area 的异常值个数为：0\n",
      "property_0 的异常值个数为：0\n",
      "property_1 的异常值个数为：0\n",
      "property_2 的异常值个数为：0\n",
      "property_3 的异常值个数为：0\n",
      "property_4 的异常值个数为：0\n",
      "property_5 的异常值个数为：0\n",
      "property_6 的异常值个数为：0\n",
      "property_7 的异常值个数为：0\n",
      "property_8 的异常值个数为：0\n",
      "height_cm 的异常值个数为：0\n",
      "weight_jin 的异常值个数为：0\n",
      "health 的异常值个数为：0\n",
      "health_problem 的异常值个数为：0\n",
      "depression 的异常值个数为：0\n",
      "hukou 的异常值个数为：0\n",
      "hukou_loc 的异常值个数为：0\n",
      "media_1 的异常值个数为：0\n",
      "media_2 的异常值个数为：0\n",
      "media_3 的异常值个数为：0\n",
      "media_4 的异常值个数为：0\n",
      "media_5 的异常值个数为：0\n",
      "media_6 的异常值个数为：0\n",
      "leisure_1 的异常值个数为：0\n",
      "leisure_2 的异常值个数为：0\n",
      "leisure_3 的异常值个数为：0\n",
      "leisure_4 的异常值个数为：0\n",
      "leisure_5 的异常值个数为：0\n",
      "leisure_6 的异常值个数为：0\n",
      "leisure_7 的异常值个数为：0\n",
      "leisure_8 的异常值个数为：0\n",
      "leisure_9 的异常值个数为：0\n",
      "leisure_10 的异常值个数为：0\n",
      "leisure_11 的异常值个数为：0\n",
      "leisure_12 的异常值个数为：0\n",
      "socialize 的异常值个数为：0\n",
      "relax 的异常值个数为：0\n",
      "learn 的异常值个数为：0\n",
      "social_neighbor 的异常值个数为：0\n",
      "social_friend 的异常值个数为：0\n",
      "socia_outing 的异常值个数为：0\n",
      "equity 的异常值个数为：0\n",
      "class 的异常值个数为：0\n",
      "class_10_before 的异常值个数为：0\n",
      "class_10_after 的异常值个数为：0\n",
      "class_14 的异常值个数为：0\n",
      "work_exper 的异常值个数为：0\n",
      "work_status 的异常值个数为：0\n",
      "work_yr 的异常值个数为：0\n",
      "work_type 的异常值个数为：0\n",
      "work_manage 的异常值个数为：0\n",
      "insur_1 的异常值个数为：0\n",
      "insur_2 的异常值个数为：0\n",
      "insur_3 的异常值个数为：0\n",
      "insur_4 的异常值个数为：0\n",
      "family_income 的异常值个数为：0\n",
      "family_m 的异常值个数为：0\n",
      "family_status 的异常值个数为：0\n",
      "house 的异常值个数为：0\n",
      "car 的异常值个数为：0\n",
      "invest_0 的异常值个数为：0\n",
      "invest_1 的异常值个数为：0\n",
      "invest_2 的异常值个数为：0\n",
      "invest_3 的异常值个数为：0\n",
      "invest_4 的异常值个数为：0\n",
      "invest_5 的异常值个数为：0\n",
      "invest_6 的异常值个数为：0\n",
      "invest_7 的异常值个数为：0\n",
      "invest_8 的异常值个数为：0\n",
      "son 的异常值个数为：0\n",
      "daughter 的异常值个数为：0\n",
      "minor_child 的异常值个数为：0\n",
      "marital 的异常值个数为：0\n",
      "marital_1st 的异常值个数为：0\n",
      "s_birth 的异常值个数为：0\n",
      "marital_now 的异常值个数为：0\n",
      "s_edu 的异常值个数为：0\n",
      "s_political 的异常值个数为：0\n",
      "s_hukou 的异常值个数为：0\n",
      "s_income 的异常值个数为：0\n",
      "s_work_exper 的异常值个数为：0\n",
      "s_work_status 的异常值个数为：0\n",
      "s_work_type 的异常值个数为：0\n",
      "f_birth 的异常值个数为：0\n",
      "f_edu 的异常值个数为：0\n",
      "f_political 的异常值个数为：0\n",
      "f_work_14 的异常值个数为：0\n",
      "m_birth 的异常值个数为：0\n",
      "m_edu 的异常值个数为：0\n",
      "m_political 的异常值个数为：0\n",
      "m_work_14 的异常值个数为：0\n",
      "status_peer 的异常值个数为：0\n",
      "status_3_before 的异常值个数为：0\n",
      "view 的异常值个数为：0\n",
      "inc_ability 的异常值个数为：0\n",
      "inc_exp 的异常值个数为：0\n",
      "trust_1 的异常值个数为：0\n",
      "trust_2 的异常值个数为：0\n",
      "trust_3 的异常值个数为：0\n",
      "trust_4 的异常值个数为：0\n",
      "trust_5 的异常值个数为：0\n",
      "trust_6 的异常值个数为：0\n",
      "trust_7 的异常值个数为：0\n",
      "trust_8 的异常值个数为：0\n",
      "trust_9 的异常值个数为：0\n",
      "trust_10 的异常值个数为：0\n",
      "trust_11 的异常值个数为：0\n",
      "trust_12 的异常值个数为：0\n",
      "trust_13 的异常值个数为：0\n",
      "neighbor_familiarity 的异常值个数为：0\n",
      "public_service_1 的异常值个数为：0\n",
      "public_service_2 的异常值个数为：0\n",
      "public_service_3 的异常值个数为：0\n",
      "public_service_4 的异常值个数为：0\n",
      "public_service_5 的异常值个数为：0\n",
      "public_service_6 的异常值个数为：0\n",
      "public_service_7 的异常值个数为：0\n",
      "public_service_8 的异常值个数为：0\n",
      "public_service_9 的异常值个数为：0\n"
     ]
    }
   ],
   "source": [
    "'''\n",
    "处理异常值。\n",
    "'''\n",
    "'''\n",
    "（1）.打算将异常值定为缺失值，然后填充。\n",
    "（2）.直接将异常值删除。\n",
    "先试试（1）\n",
    "'''\n",
    "\n",
    "\n",
    "#  先将异常值替换为缺失值，再统计每个列的异常值个数\n",
    "columns = data.columns\n",
    "for column in columns:\n",
    "    if data[column].dtype != 'object':\n",
    "        data[column] = list(map(lambda x:x if x > 0 else np.nan,data[column]))\n",
    "\n",
    "        print('%s 的异常值个数为：%d' % (column,len(data.loc[data[column] < 0,:][column])))"
   ]
  },
  {
   "cell_type": "code",
   "execution_count": 15,
   "metadata": {},
   "outputs": [
    {
     "data": {
      "text/html": [
       "<div>\n",
       "<style scoped>\n",
       "    .dataframe tbody tr th:only-of-type {\n",
       "        vertical-align: middle;\n",
       "    }\n",
       "\n",
       "    .dataframe tbody tr th {\n",
       "        vertical-align: top;\n",
       "    }\n",
       "\n",
       "    .dataframe thead th {\n",
       "        text-align: right;\n",
       "    }\n",
       "</style>\n",
       "<table border=\"1\" class=\"dataframe\">\n",
       "  <thead>\n",
       "    <tr style=\"text-align: right;\">\n",
       "      <th></th>\n",
       "      <th>0</th>\n",
       "    </tr>\n",
       "  </thead>\n",
       "  <tbody>\n",
       "    <tr>\n",
       "      <th>son</th>\n",
       "      <td>3634</td>\n",
       "    </tr>\n",
       "    <tr>\n",
       "      <th>daughter</th>\n",
       "      <td>4976</td>\n",
       "    </tr>\n",
       "    <tr>\n",
       "      <th>minor_child</th>\n",
       "      <td>7795</td>\n",
       "    </tr>\n",
       "    <tr>\n",
       "      <th>marital</th>\n",
       "      <td>0</td>\n",
       "    </tr>\n",
       "    <tr>\n",
       "      <th>marital_1st</th>\n",
       "      <td>1894</td>\n",
       "    </tr>\n",
       "    <tr>\n",
       "      <th>s_birth</th>\n",
       "      <td>2365</td>\n",
       "    </tr>\n",
       "    <tr>\n",
       "      <th>marital_now</th>\n",
       "      <td>2931</td>\n",
       "    </tr>\n",
       "    <tr>\n",
       "      <th>s_edu</th>\n",
       "      <td>2407</td>\n",
       "    </tr>\n",
       "    <tr>\n",
       "      <th>s_political</th>\n",
       "      <td>2387</td>\n",
       "    </tr>\n",
       "    <tr>\n",
       "      <th>s_hukou</th>\n",
       "      <td>2386</td>\n",
       "    </tr>\n",
       "    <tr>\n",
       "      <th>s_income</th>\n",
       "      <td>4592</td>\n",
       "    </tr>\n",
       "    <tr>\n",
       "      <th>s_work_exper</th>\n",
       "      <td>2365</td>\n",
       "    </tr>\n",
       "    <tr>\n",
       "      <th>s_work_status</th>\n",
       "      <td>7475</td>\n",
       "    </tr>\n",
       "    <tr>\n",
       "      <th>s_work_type</th>\n",
       "      <td>7493</td>\n",
       "    </tr>\n",
       "    <tr>\n",
       "      <th>f_birth</th>\n",
       "      <td>4654</td>\n",
       "    </tr>\n",
       "    <tr>\n",
       "      <th>f_edu</th>\n",
       "      <td>831</td>\n",
       "    </tr>\n",
       "    <tr>\n",
       "      <th>f_political</th>\n",
       "      <td>280</td>\n",
       "    </tr>\n",
       "    <tr>\n",
       "      <th>f_work_14</th>\n",
       "      <td>415</td>\n",
       "    </tr>\n",
       "    <tr>\n",
       "      <th>m_birth</th>\n",
       "      <td>4438</td>\n",
       "    </tr>\n",
       "    <tr>\n",
       "      <th>m_edu</th>\n",
       "      <td>680</td>\n",
       "    </tr>\n",
       "    <tr>\n",
       "      <th>m_political</th>\n",
       "      <td>210</td>\n",
       "    </tr>\n",
       "    <tr>\n",
       "      <th>m_work_14</th>\n",
       "      <td>402</td>\n",
       "    </tr>\n",
       "    <tr>\n",
       "      <th>status_peer</th>\n",
       "      <td>62</td>\n",
       "    </tr>\n",
       "    <tr>\n",
       "      <th>status_3_before</th>\n",
       "      <td>55</td>\n",
       "    </tr>\n",
       "    <tr>\n",
       "      <th>view</th>\n",
       "      <td>300</td>\n",
       "    </tr>\n",
       "    <tr>\n",
       "      <th>inc_ability</th>\n",
       "      <td>1319</td>\n",
       "    </tr>\n",
       "    <tr>\n",
       "      <th>inc_exp</th>\n",
       "      <td>1504</td>\n",
       "    </tr>\n",
       "    <tr>\n",
       "      <th>trust_1</th>\n",
       "      <td>107</td>\n",
       "    </tr>\n",
       "    <tr>\n",
       "      <th>trust_2</th>\n",
       "      <td>311</td>\n",
       "    </tr>\n",
       "    <tr>\n",
       "      <th>trust_3</th>\n",
       "      <td>1393</td>\n",
       "    </tr>\n",
       "    <tr>\n",
       "      <th>trust_4</th>\n",
       "      <td>1407</td>\n",
       "    </tr>\n",
       "    <tr>\n",
       "      <th>trust_5</th>\n",
       "      <td>61</td>\n",
       "    </tr>\n",
       "    <tr>\n",
       "      <th>trust_6</th>\n",
       "      <td>1559</td>\n",
       "    </tr>\n",
       "    <tr>\n",
       "      <th>trust_7</th>\n",
       "      <td>307</td>\n",
       "    </tr>\n",
       "    <tr>\n",
       "      <th>trust_8</th>\n",
       "      <td>1378</td>\n",
       "    </tr>\n",
       "    <tr>\n",
       "      <th>trust_9</th>\n",
       "      <td>644</td>\n",
       "    </tr>\n",
       "    <tr>\n",
       "      <th>trust_10</th>\n",
       "      <td>2447</td>\n",
       "    </tr>\n",
       "    <tr>\n",
       "      <th>trust_11</th>\n",
       "      <td>5450</td>\n",
       "    </tr>\n",
       "    <tr>\n",
       "      <th>trust_12</th>\n",
       "      <td>3377</td>\n",
       "    </tr>\n",
       "    <tr>\n",
       "      <th>trust_13</th>\n",
       "      <td>211</td>\n",
       "    </tr>\n",
       "    <tr>\n",
       "      <th>neighbor_familiarity</th>\n",
       "      <td>11</td>\n",
       "    </tr>\n",
       "    <tr>\n",
       "      <th>public_service_1</th>\n",
       "      <td>379</td>\n",
       "    </tr>\n",
       "    <tr>\n",
       "      <th>public_service_2</th>\n",
       "      <td>303</td>\n",
       "    </tr>\n",
       "    <tr>\n",
       "      <th>public_service_3</th>\n",
       "      <td>779</td>\n",
       "    </tr>\n",
       "    <tr>\n",
       "      <th>public_service_4</th>\n",
       "      <td>518</td>\n",
       "    </tr>\n",
       "    <tr>\n",
       "      <th>public_service_5</th>\n",
       "      <td>670</td>\n",
       "    </tr>\n",
       "    <tr>\n",
       "      <th>public_service_6</th>\n",
       "      <td>424</td>\n",
       "    </tr>\n",
       "    <tr>\n",
       "      <th>public_service_7</th>\n",
       "      <td>542</td>\n",
       "    </tr>\n",
       "    <tr>\n",
       "      <th>public_service_8</th>\n",
       "      <td>699</td>\n",
       "    </tr>\n",
       "    <tr>\n",
       "      <th>public_service_9</th>\n",
       "      <td>521</td>\n",
       "    </tr>\n",
       "  </tbody>\n",
       "</table>\n",
       "</div>"
      ],
      "text/plain": [
       "                         0\n",
       "son                   3634\n",
       "daughter              4976\n",
       "minor_child           7795\n",
       "marital                  0\n",
       "marital_1st           1894\n",
       "s_birth               2365\n",
       "marital_now           2931\n",
       "s_edu                 2407\n",
       "s_political           2387\n",
       "s_hukou               2386\n",
       "s_income              4592\n",
       "s_work_exper          2365\n",
       "s_work_status         7475\n",
       "s_work_type           7493\n",
       "f_birth               4654\n",
       "f_edu                  831\n",
       "f_political            280\n",
       "f_work_14              415\n",
       "m_birth               4438\n",
       "m_edu                  680\n",
       "m_political            210\n",
       "m_work_14              402\n",
       "status_peer             62\n",
       "status_3_before         55\n",
       "view                   300\n",
       "inc_ability           1319\n",
       "inc_exp               1504\n",
       "trust_1                107\n",
       "trust_2                311\n",
       "trust_3               1393\n",
       "trust_4               1407\n",
       "trust_5                 61\n",
       "trust_6               1559\n",
       "trust_7                307\n",
       "trust_8               1378\n",
       "trust_9                644\n",
       "trust_10              2447\n",
       "trust_11              5450\n",
       "trust_12              3377\n",
       "trust_13               211\n",
       "neighbor_familiarity    11\n",
       "public_service_1       379\n",
       "public_service_2       303\n",
       "public_service_3       779\n",
       "public_service_4       518\n",
       "public_service_5       670\n",
       "public_service_6       424\n",
       "public_service_7       542\n",
       "public_service_8       699\n",
       "public_service_9       521"
      ]
     },
     "execution_count": 15,
     "metadata": {},
     "output_type": "execute_result"
    }
   ],
   "source": [
    "#  缺失值情况'\n",
    "pd.DataFrame(data.isnull().sum()).tail(50)"
   ]
  },
  {
   "cell_type": "code",
   "execution_count": 16,
   "metadata": {},
   "outputs": [],
   "source": [
    "#  将缺失值较大的特征删除\n",
    "data.drop(['edu_yr','edu_other','join_party','property_0',\n",
    "          'property_1','property_2','property_3','property_4','property_5','property_6','property_7',\n",
    "           'property_8','property_other','work_status','work_yr','work_type','work_manage','invest_0',\n",
    "          'invest_1','invest_2','invest_3','invest_4','invest_5','invest_6','invest_7','invest_8',\n",
    "           'invest_other','minor_child','daughter','s_work_status','s_work_type',\n",
    "           'f_birth','m_birth','trust_11','trust_12'],axis=1,inplace=True)"
   ]
  },
  {
   "cell_type": "code",
   "execution_count": 17,
   "metadata": {},
   "outputs": [
    {
     "data": {
      "text/plain": [
       "(10956, 103)"
      ]
     },
     "execution_count": 17,
     "metadata": {},
     "output_type": "execute_result"
    }
   ],
   "source": [
    "data.shape"
   ]
  },
  {
   "cell_type": "code",
   "execution_count": 18,
   "metadata": {},
   "outputs": [],
   "source": [
    "# '''\n",
    "# print(data['birth'].min())\n",
    "# print(data['birth'].max())\n",
    "# print(1997-1921)\n",
    "# '''\n",
    "# #  10年为一个区间，新加入births特征\n",
    "\n",
    "bir = []\n",
    "for value in data['birth']:\n",
    "    \n",
    "    if 1921 <= value < 1931:\n",
    "        bir.append(1)\n",
    "    elif 1931 <= value < 1941:\n",
    "        bir.append(2)\n",
    "    elif 1941 <= value < 1951:\n",
    "        bir.append(3)\n",
    "    elif 1951 <= value < 1961:\n",
    "        bir.append(4)\n",
    "    elif 1961 <= value < 1971:\n",
    "        bir.append(5)\n",
    "    elif 1971 <= value < 1981:\n",
    "        bir.append(6)\n",
    "    elif 1981 <= value <= 1991:\n",
    "        bir.append(7)\n",
    "    elif 1991 <= value <= 2001:\n",
    "        bir.append(8)\n",
    "data['birth'] = pd.DataFrame(bir)"
   ]
  },
  {
   "cell_type": "code",
   "execution_count": 19,
   "metadata": {},
   "outputs": [],
   "source": [
    "#  依据特征income创造收入人群称呼\n",
    "incomes = []\n",
    "for income in data['income']:\n",
    "    if 0 <= income < 200000:\n",
    "        incomes.append(1)  #  困难家庭\n",
    "    elif 200000 <= income < 350000:\n",
    "        incomes.append(2)  # 贫困家庭\n",
    "    elif 350000 <= income < 600000:\n",
    "        incomes.append(3)  #贫穷家庭\n",
    "    elif 600000 <= income < 800000:\n",
    "        incomes.append(4)  #小康家庭\n",
    "    elif 800000 <= income < 2000000:\n",
    "        incomes.append(5)  #中产家庭\n",
    "    elif 2000000 <= income < 5000000:\n",
    "        incomes.append(6)  #富裕家庭\n",
    "    elif 5000000 <= income:\n",
    "        incomes.append(7)  #富人家庭\n",
    "        \n",
    "data['income'] = pd.DataFrame(incomes)"
   ]
  },
  {
   "cell_type": "code",
   "execution_count": 20,
   "metadata": {},
   "outputs": [],
   "source": [
    "#  依据特征family_income创造收入人群称呼\n",
    "family_incomes = []\n",
    "for income in data['family_income']:\n",
    "    if 0 <= income < 200000:\n",
    "        family_incomes.append(1)  #  困难家庭\n",
    "    elif 200000 <= income < 350000:\n",
    "        family_incomes.append(2)  # 贫困家庭\n",
    "    elif 350000 <= income < 600000:\n",
    "        family_incomes.append(3)  #贫穷家庭\n",
    "    elif 600000 <= income < 800000:\n",
    "        family_incomes.append(4)  #小康家庭\n",
    "    elif 800000 <= income < 2000000:\n",
    "        family_incomes.append(5)  #中产家庭\n",
    "    elif 2000000 <= income < 5000000:\n",
    "        family_incomes.append(6)  #富裕家庭\n",
    "    elif 5000000 <= income:\n",
    "        family_incomes.append(7)  #富人家庭\n",
    "        \n",
    "data['family_income'] = pd.DataFrame(family_incomes)"
   ]
  },
  {
   "cell_type": "code",
   "execution_count": 21,
   "metadata": {},
   "outputs": [],
   "source": [
    "#  依据特征s_income创造收入人群称呼\n",
    "s_incomes = []\n",
    "for income in data['s_income']:\n",
    "    if 0 <= income < 200000:\n",
    "        s_incomes.append(1)  #  困难家庭\n",
    "    elif 200000 <= income < 350000:\n",
    "        s_incomes.append(2)  # 贫困家庭\n",
    "    elif 350000 <= income < 600000:\n",
    "        s_incomes.append(3)  #贫穷家庭\n",
    "    elif 600000 <= income < 800000:\n",
    "        s_incomes.append(4)  #小康家庭\n",
    "    elif 800000 <= income < 2000000:\n",
    "        s_incomes.append(5)  #中产家庭\n",
    "    elif 2000000 <= income < 5000000:\n",
    "        s_incomes.append(6)  #富裕家庭\n",
    "    elif 5000000 <= income:\n",
    "        s_incomes.append(7)  #富人家庭\n",
    "        \n",
    "data['s_income'] = pd.DataFrame(s_incomes)"
   ]
  },
  {
   "cell_type": "code",
   "execution_count": 22,
   "metadata": {},
   "outputs": [],
   "source": [
    "#  依据特征inc_exp创造消费人群称呼\n",
    "inc_exps = []\n",
    "for income in data['inc_exp']:\n",
    "    if 0 <= income < 200000:\n",
    "        inc_exps.append(1)  #  困难家庭\n",
    "    elif 200000 <= income < 350000:\n",
    "        inc_exps.append(2)  # 贫困家庭\n",
    "    elif 350000 <= income < 600000:\n",
    "        inc_exps.append(3)  #贫穷家庭\n",
    "    elif 600000 <= income < 800000:\n",
    "        inc_exps.append(4)  #小康家庭\n",
    "    elif 800000 <= income < 2000000:\n",
    "        inc_exps.append(5)  #中产家庭\n",
    "    elif 2000000 <= income < 5000000:\n",
    "        inc_exps.append(6)  #富裕家庭\n",
    "    elif 5000000 <= income:\n",
    "        inc_exps.append(7)  #富人家庭\n",
    "        \n",
    "data['inc_exp'] = pd.DataFrame(inc_exps)"
   ]
  },
  {
   "cell_type": "code",
   "execution_count": 23,
   "metadata": {},
   "outputs": [],
   "source": [
    "data.drop(['survey_time','survey_type','province','city','county',\n",
    "          'marital_1st','s_birth','marital_now'],axis=1,inplace=True)"
   ]
  },
  {
   "cell_type": "code",
   "execution_count": 24,
   "metadata": {},
   "outputs": [
    {
     "data": {
      "text/plain": [
       "(10956, 95)"
      ]
     },
     "execution_count": 24,
     "metadata": {},
     "output_type": "execute_result"
    }
   ],
   "source": [
    "data.shape"
   ]
  },
  {
   "cell_type": "markdown",
   "metadata": {},
   "source": [
    "# 用随机森林回归填充缺失值"
   ]
  },
  {
   "cell_type": "code",
   "execution_count": 25,
   "metadata": {},
   "outputs": [
    {
     "data": {
      "text/html": [
       "<div>\n",
       "<style scoped>\n",
       "    .dataframe tbody tr th:only-of-type {\n",
       "        vertical-align: middle;\n",
       "    }\n",
       "\n",
       "    .dataframe tbody tr th {\n",
       "        vertical-align: top;\n",
       "    }\n",
       "\n",
       "    .dataframe thead th {\n",
       "        text-align: right;\n",
       "    }\n",
       "</style>\n",
       "<table border=\"1\" class=\"dataframe\">\n",
       "  <thead>\n",
       "    <tr style=\"text-align: right;\">\n",
       "      <th></th>\n",
       "      <th>0</th>\n",
       "    </tr>\n",
       "  </thead>\n",
       "  <tbody>\n",
       "    <tr>\n",
       "      <th>gender</th>\n",
       "      <td>0</td>\n",
       "    </tr>\n",
       "    <tr>\n",
       "      <th>birth</th>\n",
       "      <td>1</td>\n",
       "    </tr>\n",
       "    <tr>\n",
       "      <th>nationality</th>\n",
       "      <td>20</td>\n",
       "    </tr>\n",
       "    <tr>\n",
       "      <th>religion</th>\n",
       "      <td>1321</td>\n",
       "    </tr>\n",
       "    <tr>\n",
       "      <th>religion_freq</th>\n",
       "      <td>22</td>\n",
       "    </tr>\n",
       "    <tr>\n",
       "      <th>...</th>\n",
       "      <td>...</td>\n",
       "    </tr>\n",
       "    <tr>\n",
       "      <th>public_service_5</th>\n",
       "      <td>670</td>\n",
       "    </tr>\n",
       "    <tr>\n",
       "      <th>public_service_6</th>\n",
       "      <td>424</td>\n",
       "    </tr>\n",
       "    <tr>\n",
       "      <th>public_service_7</th>\n",
       "      <td>542</td>\n",
       "    </tr>\n",
       "    <tr>\n",
       "      <th>public_service_8</th>\n",
       "      <td>699</td>\n",
       "    </tr>\n",
       "    <tr>\n",
       "      <th>public_service_9</th>\n",
       "      <td>521</td>\n",
       "    </tr>\n",
       "  </tbody>\n",
       "</table>\n",
       "<p>95 rows × 1 columns</p>\n",
       "</div>"
      ],
      "text/plain": [
       "                     0\n",
       "gender               0\n",
       "birth                1\n",
       "nationality         20\n",
       "religion          1321\n",
       "religion_freq       22\n",
       "...                ...\n",
       "public_service_5   670\n",
       "public_service_6   424\n",
       "public_service_7   542\n",
       "public_service_8   699\n",
       "public_service_9   521\n",
       "\n",
       "[95 rows x 1 columns]"
      ]
     },
     "execution_count": 25,
     "metadata": {},
     "output_type": "execute_result"
    }
   ],
   "source": [
    "#  缺失值情况'\n",
    "pd.DataFrame(data.isnull().sum())\n",
    "\n",
    "#  这下可以放心填充了。"
   ]
  },
  {
   "cell_type": "code",
   "execution_count": 26,
   "metadata": {},
   "outputs": [
    {
     "data": {
      "text/plain": [
       "Index(['birth', 'nationality', 'religion', 'religion_freq', 'edu',\n",
       "       'edu_status', 'income', 'political', 'floor_area', 'health',\n",
       "       'health_problem', 'depression', 'hukou_loc', 'media_1', 'media_2',\n",
       "       'media_3', 'media_4', 'media_5', 'media_6', 'leisure_1', 'leisure_2',\n",
       "       'leisure_3', 'leisure_4', 'leisure_5', 'leisure_6', 'leisure_7',\n",
       "       'leisure_8', 'leisure_9', 'leisure_10', 'leisure_11', 'leisure_12',\n",
       "       'socialize', 'relax', 'learn', 'social_neighbor', 'social_friend',\n",
       "       'socia_outing', 'equity', 'class', 'class_10_before', 'class_10_after',\n",
       "       'class_14', 'insur_1', 'insur_2', 'insur_3', 'insur_4', 'family_income',\n",
       "       'family_m', 'family_status', 'house', 'car', 'son', 's_edu',\n",
       "       's_political', 's_hukou', 's_income', 's_work_exper', 'f_edu',\n",
       "       'f_political', 'f_work_14', 'm_edu', 'm_political', 'm_work_14',\n",
       "       'status_peer', 'status_3_before', 'view', 'inc_ability', 'inc_exp',\n",
       "       'trust_1', 'trust_2', 'trust_3', 'trust_4', 'trust_5', 'trust_6',\n",
       "       'trust_7', 'trust_8', 'trust_9', 'trust_10', 'trust_13',\n",
       "       'neighbor_familiarity', 'public_service_1', 'public_service_2',\n",
       "       'public_service_3', 'public_service_4', 'public_service_5',\n",
       "       'public_service_6', 'public_service_7', 'public_service_8',\n",
       "       'public_service_9'],\n",
       "      dtype='object')"
      ]
     },
     "execution_count": 26,
     "metadata": {},
     "output_type": "execute_result"
    }
   ],
   "source": [
    "'''\n",
    "把有缺失值的特征都拿出来。\n",
    "'''\n",
    "a = pd.DataFrame(data.isnull().sum() != 0)\n",
    "a = a[a.values == True]\n",
    "a.index"
   ]
  },
  {
   "cell_type": "code",
   "execution_count": 27,
   "metadata": {},
   "outputs": [],
   "source": [
    "#  把专门的缺失值的特征跳出来，形成一个新的表格。\n",
    "datas_pre = pd.DataFrame()\n",
    "for col in a.index:\n",
    "    datas_pre[col] = data[col]"
   ]
  },
  {
   "cell_type": "code",
   "execution_count": 28,
   "metadata": {},
   "outputs": [
    {
     "data": {
      "text/plain": [
       "(10956, 89)"
      ]
     },
     "execution_count": 28,
     "metadata": {},
     "output_type": "execute_result"
    }
   ],
   "source": [
    "datas_pre.shape"
   ]
  },
  {
   "cell_type": "code",
   "execution_count": 29,
   "metadata": {},
   "outputs": [
    {
     "data": {
      "text/plain": [
       "array([ 0, 13,  8, 16, 15, 14, 31, 12,  9, 19, 50, 79, 22, 17,  4, 24, 21,\n",
       "       18, 20,  1, 32, 26,  3, 11, 27, 33, 47, 30, 25, 28,  7, 29, 10, 42,\n",
       "       64, 48, 37, 72, 63, 36, 23, 38, 68, 39, 43, 41, 61, 78, 44, 45, 58,\n",
       "       65, 81, 74, 69, 80, 62, 59, 85, 83, 88, 86, 40, 76, 84, 60, 87, 82,\n",
       "       57, 49, 46, 34, 35, 66,  2, 75, 70, 71, 67, 73,  5,  6, 56, 54, 53,\n",
       "       52, 77, 51, 55], dtype=int64)"
      ]
     },
     "execution_count": 29,
     "metadata": {},
     "output_type": "execute_result"
    }
   ],
   "source": [
    "np.argsort(datas_pre.isnull().sum(axis=0)).values\n",
    "#  即第6个特征【从0开始】的缺失值最少，就从它开始填充吧。"
   ]
  },
  {
   "cell_type": "code",
   "execution_count": 30,
   "metadata": {},
   "outputs": [],
   "source": [
    "#  随机森林回归填充的思路就是从缺失值数目最少的开始填充\n",
    "from sklearn.impute import SimpleImputer\n",
    "from sklearn.ensemble import RandomForestRegressor\n",
    "\n",
    "datas_pre['inc_ability'] = pd.to_numeric(datas_pre['inc_ability'])\n",
    "\n",
    "y_full = data_train['happiness']\n",
    "data_pre_reg = datas_pre.copy()\n",
    "sort_index = np.argsort(data_pre_reg.isnull().sum(axis=0)).values\n",
    "\n",
    "data_pre_reg.columns = [x for x in range(len(data_pre_reg.columns))]"
   ]
  },
  {
   "cell_type": "code",
   "execution_count": 31,
   "metadata": {},
   "outputs": [],
   "source": [
    "#慢\n",
    "# %%time\n",
    "# for i in sort_index:\n",
    "#     df = data_pre_reg\n",
    "#     #  构建新标签\n",
    "#     fillc = df.iloc[:,i]\n",
    "#     #  构建新特征矩阵\n",
    "#     df = pd.concat([df.iloc[:,df.columns != i],pd.DataFrame(y_full)],axis=1)\n",
    "#     #  对于新的特征矩阵中，用0进行填充\n",
    "#     imp_0 = SimpleImputer(missing_values=np.nan,strategy='constant',fill_value=0)\n",
    "#     df_0 = pd.DataFrame(imp_0.fit_transform(df))\n",
    "#     #  挑选出不缺失的标签\n",
    "#     Ytrain = fillc[fillc.notnull()]\n",
    "#     #  需要Ytest的index啊\n",
    "#     Ytest = fillc[fillc.isnull()]\n",
    "#     Xtrain = df_0.iloc[Ytrain.index,:]\n",
    "#     Xtest = df_0.iloc[Ytest.index,:]\n",
    "#     #  建立随机森林回归模型\n",
    "#     rfc = RandomForestRegressor(n_estimators=10)\n",
    "#     rfc = rfc.fit(Xtrain,Ytrain)\n",
    "#     Ypredict = rfc.predict(Xtest)\n",
    "    \n",
    "#     data_pre_reg.loc[data_pre_reg.iloc[:,i].isnull(),i] = Ypredict"
   ]
  },
  {
   "cell_type": "code",
   "execution_count": 32,
   "metadata": {},
   "outputs": [],
   "source": [
    "imp_0 = SimpleImputer(missing_values=np.nan,strategy='constant',fill_value=-8)\n",
    "data_pre_reg = pd.DataFrame(imp_0.fit_transform(data_pre_reg))"
   ]
  },
  {
   "cell_type": "code",
   "execution_count": 33,
   "metadata": {},
   "outputs": [],
   "source": [
    "data['happiness'] = data_train['happiness']"
   ]
  },
  {
   "cell_type": "code",
   "execution_count": 34,
   "metadata": {},
   "outputs": [
    {
     "data": {
      "text/plain": [
       "0     0\n",
       "1     0\n",
       "2     0\n",
       "3     0\n",
       "4     0\n",
       "     ..\n",
       "84    0\n",
       "85    0\n",
       "86    0\n",
       "87    0\n",
       "88    0\n",
       "Length: 89, dtype: int64"
      ]
     },
     "execution_count": 34,
     "metadata": {},
     "output_type": "execute_result"
    }
   ],
   "source": [
    "\n",
    "'''\n",
    "nice  成功全部填充哦！！！！\n",
    "'''\n",
    "data_pre_reg.isnull().sum()"
   ]
  },
  {
   "cell_type": "code",
   "execution_count": 35,
   "metadata": {},
   "outputs": [],
   "source": [
    "#  将data_pre_reg归进去data里。\n",
    "data_pre_reg.columns = a.index\n",
    "\n",
    "for column in data_pre_reg.columns:\n",
    "    data[column] = data_pre_reg[column]"
   ]
  },
  {
   "cell_type": "code",
   "execution_count": 36,
   "metadata": {},
   "outputs": [
    {
     "data": {
      "text/plain": [
       "gender                 0\n",
       "birth                  0\n",
       "nationality            0\n",
       "religion               0\n",
       "religion_freq          0\n",
       "                    ... \n",
       "public_service_6       0\n",
       "public_service_7       0\n",
       "public_service_8       0\n",
       "public_service_9       0\n",
       "happiness           2968\n",
       "Length: 96, dtype: int64"
      ]
     },
     "execution_count": 36,
     "metadata": {},
     "output_type": "execute_result"
    }
   ],
   "source": [
    "'''\n",
    "成功替换回去了。可以放心使用data建模了。\n",
    "'''\n",
    "data.isnull().sum()"
   ]
  },
  {
   "cell_type": "code",
   "execution_count": 37,
   "metadata": {},
   "outputs": [],
   "source": [
    "data.to_csv(r'完整版啊.csv',index=False)"
   ]
  },
  {
   "cell_type": "code",
   "execution_count": 38,
   "metadata": {},
   "outputs": [
    {
     "data": {
      "text/plain": [
       "Index(['gender', 'birth', 'nationality', 'religion', 'religion_freq', 'edu',\n",
       "       'edu_status', 'income', 'political', 'floor_area', 'height_cm',\n",
       "       'weight_jin', 'health', 'health_problem', 'depression', 'hukou',\n",
       "       'hukou_loc', 'media_1', 'media_2', 'media_3', 'media_4', 'media_5',\n",
       "       'media_6', 'leisure_1', 'leisure_2', 'leisure_3', 'leisure_4',\n",
       "       'leisure_5', 'leisure_6', 'leisure_7', 'leisure_8', 'leisure_9',\n",
       "       'leisure_10', 'leisure_11', 'leisure_12', 'socialize', 'relax', 'learn',\n",
       "       'social_neighbor', 'social_friend', 'socia_outing', 'equity', 'class',\n",
       "       'class_10_before', 'class_10_after', 'class_14', 'work_exper',\n",
       "       'insur_1', 'insur_2', 'insur_3', 'insur_4', 'family_income', 'family_m',\n",
       "       'family_status', 'house', 'car', 'son', 'marital', 's_edu',\n",
       "       's_political', 's_hukou', 's_income', 's_work_exper', 'f_edu',\n",
       "       'f_political', 'f_work_14', 'm_edu', 'm_political', 'm_work_14',\n",
       "       'status_peer', 'status_3_before', 'view', 'inc_ability', 'inc_exp',\n",
       "       'trust_1', 'trust_2', 'trust_3', 'trust_4', 'trust_5', 'trust_6',\n",
       "       'trust_7', 'trust_8', 'trust_9', 'trust_10', 'trust_13',\n",
       "       'neighbor_familiarity', 'public_service_1', 'public_service_2',\n",
       "       'public_service_3', 'public_service_4', 'public_service_5',\n",
       "       'public_service_6', 'public_service_7', 'public_service_8',\n",
       "       'public_service_9', 'happiness'],\n",
       "      dtype='object')"
      ]
     },
     "execution_count": 38,
     "metadata": {},
     "output_type": "execute_result"
    }
   ],
   "source": [
    "data.columns"
   ]
  },
  {
   "cell_type": "code",
   "execution_count": 39,
   "metadata": {},
   "outputs": [
    {
     "data": {
      "image/png": "[encoded data removed]",
      "text/plain": [
       "<Figure size 1800x720 with 1 Axes>"
      ]
     },
     "metadata": {
      "needs_background": "light"
     },
     "output_type": "display_data"
    }
   ],
   "source": [
    "#  相关性分析\n",
    "plt.figure(figsize=(25,10))\n",
    "data.corr()['happiness'].sort_values(ascending=False).plot(kind='bar')\n",
    "plt.show()"
   ]
  },
  {
   "cell_type": "code",
   "execution_count": 40,
   "metadata": {},
   "outputs": [],
   "source": [
    "#  剔除相关度较低的特征\n",
    "data.drop(['religion_freq','work_exper','income','inc_exp','s_hukou'],axis=1,inplace=True)"
   ]
  },
  {
   "cell_type": "code",
   "execution_count": 41,
   "metadata": {},
   "outputs": [],
   "source": [
    "X_train = data.iloc[:7988,:]"
   ]
  },
  {
   "cell_type": "code",
   "execution_count": 42,
   "metadata": {},
   "outputs": [],
   "source": [
    "X_test = data.iloc[7988:,:]"
   ]
  },
  {
   "cell_type": "code",
   "execution_count": 43,
   "metadata": {},
   "outputs": [],
   "source": [
    "X_test.to_csv(r'test_data_complete.csv',index=False)"
   ]
  },
  {
   "cell_type": "code",
   "execution_count": 44,
   "metadata": {},
   "outputs": [],
   "source": [
    "train_data_complete = pd.DataFrame(X_train,y_full)"
   ]
  },
  {
   "cell_type": "code",
   "execution_count": 45,
   "metadata": {},
   "outputs": [],
   "source": [
    "train_data_complete.to_csv(r'train_data_complete.csv',index=False)"
   ]
  },
  {
   "cell_type": "markdown",
   "metadata": {},
   "source": [
    "# 模型建立与调参数"
   ]
  },
  {
   "cell_type": "code",
   "execution_count": 46,
   "metadata": {},
   "outputs": [],
   "source": [
    "#  切分数据集\n",
    "from sklearn.model_selection import train_test_split\n",
    "Xtrain,Xtest,ytrain,ytest = train_test_split(X_train,y_full,test_size=0.3,random_state=1227)"
   ]
  },
  {
   "cell_type": "markdown",
   "metadata": {},
   "source": [
    "## 一般模型的建立与调参数"
   ]
  },
  {
   "cell_type": "code",
   "execution_count": 47,
   "metadata": {},
   "outputs": [],
   "source": [
    "from sklearn.linear_model import LinearRegression\n",
    "from sklearn.ensemble import RandomForestRegressor\n",
    "from sklearn.ensemble import GradientBoostingRegressor\n",
    "from sklearn.svm import SVR\n",
    "from sklearn.neighbors import KNeighborsRegressor\n",
    "from sklearn.ensemble import AdaBoostRegressor\n",
    "from sklearn.metrics import mean_absolute_error,mean_squared_error,r2_score\n",
    "from sklearn.model_selection import GridSearchCV\n",
    "from sklearn.pipeline import Pipeline\n",
    "from sklearn.decomposition import PCA\n",
    "from xgboost.sklearn import XGBRegressor\n",
    "from lightgbm.sklearn import LGBMRegressor\n",
    "\n",
    "\n",
    "model_names = [\n",
    "    #'linear_reg',\n",
    "    #'RandomForestRegressor',\n",
    "    'GradientBoostingRegressors',\n",
    "    'svr',\n",
    "    'KNeighborsRegressors',\n",
    "    'AdaBoostRegressors',\n",
    "    #'XGBoost',\n",
    "    #'lightGBM'\n",
    "    ]\n",
    "\n",
    "models = [\n",
    "   # LinearRegression(),\n",
    "    #RandomForestRegressor(random_state=666),\n",
    "    GradientBoostingRegressor(random_state=666),\n",
    "    SVR(),\n",
    "    KNeighborsRegressor(),\n",
    "    AdaBoostRegressor(random_state=666),\n",
    "    \n",
    "    ]\n",
    "\n",
    "#  需要调节的参数\n",
    "parm_grids = [\n",
    "    \n",
    "#     {'RandomForestRegressor__max_depth':[3,6,9],'RandomForestRegressor__n_estimators':[10,50,70],\n",
    "#     'RandomForestRegressor__min_samples_split':[3,5,7,9],'RandomForestRegressor__min_samples_leaf':range(2,5)\n",
    "#     },\n",
    "    {'GradientBoostingRegressors__n_estimators':[10,50,100],\n",
    "     'GradientBoostingRegressors__max_depth':range(2,9),\n",
    "    'GradientBoostingRegressors__min_samples_split':[3,5,7,9],\n",
    "     'GradientBoostingRegressors__min_samples_leaf':range(2,5)},\n",
    "    {'svr__degree':[2,3,4]},\n",
    "    {'KNeighborsRegressors__n_neighbors':[2,5,7,9,10]},\n",
    "    {'AdaBoostRegressors__n_estimators':[2,9,10,13,15,20,50,100]}\n",
    "    \n",
    "    ]\n",
    "\n",
    "def Grid(pipeline,train_x,train_y,test_x,test_y,param_grid):\n",
    "    response = {}\n",
    "    gridsearch = GridSearchCV(pipeline,param_grid=param_grid,cv=3)\n",
    "    search = gridsearch.fit(train_x,train_y)\n",
    "    print('最优参数：',search.best_params_)\n",
    "    print('最优参数(R^2)：%0.4lf' % search.best_score_)\n",
    "    predict_y = gridsearch.predict(test_x)\n",
    "    mse = mean_squared_error(ytest,predict_y).mean()\n",
    "    response['mse'] = mse\n",
    "    return response"
   ]
  },
  {
   "cell_type": "code",
   "execution_count": 48,
   "metadata": {},
   "outputs": [],
   "source": [
    "# %%time\n",
    "# for model,model_name,parm_grid in zip(models,model_names,parm_grids):\n",
    "#     #print(model_name,model)\n",
    "#     pipeline = Pipeline([\n",
    "#     #('sta',StandardScaler()),\n",
    "#     #('pca',PCA()),\n",
    "#     (model_name,model),\n",
    "#     ]\n",
    "#     )\n",
    "    \n",
    "#     result = Grid(pipeline,Xtrain,ytrain,Xtest,ytest,parm_grid)\n",
    "#     print(result)"
   ]
  },
  {
   "cell_type": "markdown",
   "metadata": {},
   "source": [
    "# XGBoost与lightGBM的建立与参数"
   ]
  },
  {
   "cell_type": "code",
   "execution_count": 49,
   "metadata": {},
   "outputs": [],
   "source": [
    "#  试试两大神器\n",
    "from xgboost.sklearn import XGBRegressor\n",
    "from lightgbm.sklearn import LGBMRegressor"
   ]
  },
  {
   "cell_type": "code",
   "execution_count": 50,
   "metadata": {},
   "outputs": [
    {
     "name": "stdout",
     "output_type": "stream",
     "text": [
      "XGBOOST的mse为: 2.3408990205392295e-10\n",
      "XGBOOST的r2为: 0.9999999996335854\n"
     ]
    }
   ],
   "source": [
    "#  试试默认参数下的xgboost\n",
    "xgboo = XGBRegressor().fit(Xtrain,ytrain)\n",
    "predict = xgboo.predict(Xtest)\n",
    "print('XGBOOST的mse为:',mean_squared_error(ytest,predict))\n",
    "print('XGBOOST的r2为:',r2_score(ytest,predict))"
   ]
  },
  {
   "cell_type": "code",
   "execution_count": 51,
   "metadata": {},
   "outputs": [
    {
     "name": "stdout",
     "output_type": "stream",
     "text": [
      "LGBM的mse为: 4.514718835010498e-10\n",
      "LGBM的r2为: 0.9999999992933234\n"
     ]
    }
   ],
   "source": [
    "#  试试默认参数下的lightlgbm\n",
    "lgbm = LGBMRegressor().fit(Xtrain,ytrain)\n",
    "predict = lgbm.predict(Xtest)\n",
    "print('LGBM的mse为:',mean_squared_error(ytest,predict))\n",
    "print('LGBM的r2为:',r2_score(ytest,predict))"
   ]
  },
  {
   "cell_type": "code",
   "execution_count": 52,
   "metadata": {},
   "outputs": [],
   "source": [
    "#  将数据集转化为xgboost所需的格式\n",
    "import xgboost as xgb\n",
    "train_d = xgb.DMatrix(Xtrain,ytrain)"
   ]
  },
  {
   "cell_type": "code",
   "execution_count": 53,
   "metadata": {},
   "outputs": [
    {
     "data": {
      "text/html": [
       "<div>\n",
       "<style scoped>\n",
       "    .dataframe tbody tr th:only-of-type {\n",
       "        vertical-align: middle;\n",
       "    }\n",
       "\n",
       "    .dataframe tbody tr th {\n",
       "        vertical-align: top;\n",
       "    }\n",
       "\n",
       "    .dataframe thead th {\n",
       "        text-align: right;\n",
       "    }\n",
       "</style>\n",
       "<table border=\"1\" class=\"dataframe\">\n",
       "  <thead>\n",
       "    <tr style=\"text-align: right;\">\n",
       "      <th></th>\n",
       "      <th>train-rmse-mean</th>\n",
       "      <th>train-rmse-std</th>\n",
       "      <th>test-rmse-mean</th>\n",
       "      <th>test-rmse-std</th>\n",
       "    </tr>\n",
       "  </thead>\n",
       "  <tbody>\n",
       "    <tr>\n",
       "      <th>0</th>\n",
       "      <td>3.112892</td>\n",
       "      <td>0.006394</td>\n",
       "      <td>3.112799</td>\n",
       "      <td>0.025540</td>\n",
       "    </tr>\n",
       "    <tr>\n",
       "      <th>1</th>\n",
       "      <td>2.801915</td>\n",
       "      <td>0.005754</td>\n",
       "      <td>2.801818</td>\n",
       "      <td>0.022991</td>\n",
       "    </tr>\n",
       "    <tr>\n",
       "      <th>2</th>\n",
       "      <td>2.524641</td>\n",
       "      <td>0.007728</td>\n",
       "      <td>2.524487</td>\n",
       "      <td>0.020901</td>\n",
       "    </tr>\n",
       "    <tr>\n",
       "      <th>3</th>\n",
       "      <td>2.275479</td>\n",
       "      <td>0.012218</td>\n",
       "      <td>2.275057</td>\n",
       "      <td>0.020461</td>\n",
       "    </tr>\n",
       "    <tr>\n",
       "      <th>4</th>\n",
       "      <td>2.053757</td>\n",
       "      <td>0.016673</td>\n",
       "      <td>2.053142</td>\n",
       "      <td>0.021882</td>\n",
       "    </tr>\n",
       "    <tr>\n",
       "      <th>...</th>\n",
       "      <td>...</td>\n",
       "      <td>...</td>\n",
       "      <td>...</td>\n",
       "      <td>...</td>\n",
       "    </tr>\n",
       "    <tr>\n",
       "      <th>3516</th>\n",
       "      <td>0.000999</td>\n",
       "      <td>0.000372</td>\n",
       "      <td>0.006901</td>\n",
       "      <td>0.002337</td>\n",
       "    </tr>\n",
       "    <tr>\n",
       "      <th>3517</th>\n",
       "      <td>0.000998</td>\n",
       "      <td>0.000372</td>\n",
       "      <td>0.006901</td>\n",
       "      <td>0.002338</td>\n",
       "    </tr>\n",
       "    <tr>\n",
       "      <th>3518</th>\n",
       "      <td>0.000998</td>\n",
       "      <td>0.000372</td>\n",
       "      <td>0.006901</td>\n",
       "      <td>0.002338</td>\n",
       "    </tr>\n",
       "    <tr>\n",
       "      <th>3519</th>\n",
       "      <td>0.000998</td>\n",
       "      <td>0.000371</td>\n",
       "      <td>0.006901</td>\n",
       "      <td>0.002337</td>\n",
       "    </tr>\n",
       "    <tr>\n",
       "      <th>3520</th>\n",
       "      <td>0.000997</td>\n",
       "      <td>0.000371</td>\n",
       "      <td>0.006899</td>\n",
       "      <td>0.002338</td>\n",
       "    </tr>\n",
       "  </tbody>\n",
       "</table>\n",
       "<p>3521 rows × 4 columns</p>\n",
       "</div>"
      ],
      "text/plain": [
       "      train-rmse-mean  train-rmse-std  test-rmse-mean  test-rmse-std\n",
       "0            3.112892        0.006394        3.112799       0.025540\n",
       "1            2.801915        0.005754        2.801818       0.022991\n",
       "2            2.524641        0.007728        2.524487       0.020901\n",
       "3            2.275479        0.012218        2.275057       0.020461\n",
       "4            2.053757        0.016673        2.053142       0.021882\n",
       "...               ...             ...             ...            ...\n",
       "3516         0.000999        0.000372        0.006901       0.002337\n",
       "3517         0.000998        0.000372        0.006901       0.002338\n",
       "3518         0.000998        0.000372        0.006901       0.002338\n",
       "3519         0.000998        0.000371        0.006901       0.002337\n",
       "3520         0.000997        0.000371        0.006899       0.002338\n",
       "\n",
       "[3521 rows x 4 columns]"
      ]
     },
     "execution_count": 53,
     "metadata": {},
     "output_type": "execute_result"
    }
   ],
   "source": [
    "#  默认随机挑选参数\n",
    "xgb1 = XGBRegressor(max_depth=3,\n",
    "                     learning_rate=0.1,\n",
    "                     n_estimators=5000,\n",
    "                     silent=False,\n",
    "                     booster='gbtree',\n",
    "                     objective='reg:squarederror',\n",
    "                     n_jobs=4,\n",
    "                     gamma=0,\n",
    "                     min_child_weight=1,\n",
    "                     subsample=0.8,\n",
    "                     colsample_bytree=0.8,\n",
    "                     seed=7)\n",
    "\n",
    "#  利用cv函数选择最佳的树的数量。\n",
    "xgb.cv(xgb1.get_xgb_params(),train_d,xgb1.get_xgb_params()['n_estimators'],nfold=5,\n",
    "      metrics='rmse',early_stopping_rounds=70)"
   ]
  },
  {
   "cell_type": "code",
   "execution_count": 54,
   "metadata": {},
   "outputs": [
    {
     "name": "stdout",
     "output_type": "stream",
     "text": [
      "The best mse: 0.00010119662518236292\n",
      "The best r2: 0.9998415996834323\n"
     ]
    }
   ],
   "source": [
    "#  更新树的数量的参数并计算mse\n",
    "xgb1 = XGBRegressor(max_depth=3,\n",
    "                     learning_rate=0.1,\n",
    "                     n_estimators=149,\n",
    "                     silent=False,\n",
    "                     objective='reg:squarederror',\n",
    "                     booster='gbtree',\n",
    "                     n_jobs=4,\n",
    "                     gamma=0,\n",
    "                     min_child_weight=1,\n",
    "                     subsample=0.8,\n",
    "                     colsample_bytree=0.8,\n",
    "                     seed=7)\n",
    "#  然后训练模型、测试集预测、获得mse得分\n",
    "xgb1_best1 = xgb1.fit(Xtrain,ytrain)\n",
    "\n",
    "predict = xgb1_best1.predict(Xtest)\n",
    "print('The best mse:',mean_squared_error(ytest,predict))\n",
    "print('The best r2:',r2_score(ytest,predict))"
   ]
  },
  {
   "cell_type": "code",
   "execution_count": 55,
   "metadata": {},
   "outputs": [
    {
     "data": {
      "text/plain": [
       "<Figure size 1080x648 with 0 Axes>"
      ]
     },
     "metadata": {},
     "output_type": "display_data"
    },
    {
     "data": {
      "image/png": "[encoded data removed]",
      "text/plain": [
       "<Figure size 432x288 with 1 Axes>"
      ]
     },
     "metadata": {
      "needs_background": "light"
     },
     "output_type": "display_data"
    }
   ],
   "source": [
    "#  看看特征的重要性\n",
    "plt.figure(figsize=(15,9))\n",
    "xgb.plot_importance(xgb1_best1)\n",
    "plt.show()\n"
   ]
  },
  {
   "cell_type": "code",
   "execution_count": 57,
   "metadata": {},
   "outputs": [
    {
     "data": {
      "text/plain": [
       "GridSearchCV(cv=5, error_score=nan,\n",
       "             estimator=XGBRegressor(base_score=0.5, booster='gbtree',\n",
       "                                    colsample_bylevel=1, colsample_bynode=1,\n",
       "                                    colsample_bytree=0.8, gamma=0, gpu_id=-1,\n",
       "                                    importance_type='gain',\n",
       "                                    interaction_constraints=None,\n",
       "                                    learning_rate=0.1, max_delta_step=0,\n",
       "                                    max_depth=3, min_child_weight=1,\n",
       "                                    missing=nan, monotone_constraints=None,\n",
       "                                    n_estimators=149, n_jobs=4,\n",
       "                                    n...\n",
       "                                    objective='reg:squarederror',\n",
       "                                    random_state=7, reg_alpha=0, reg_lambda=1,\n",
       "                                    scale_pos_weight=1, seed=7, silent=False,\n",
       "                                    subsample=0.8, tree_method=None,\n",
       "                                    validate_parameters=False, verbosity=None),\n",
       "             iid='deprecated', n_jobs=None,\n",
       "             param_grid={'max_depth': [1, 2, 3, 4, 5, 6],\n",
       "                         'min_child_weight': [1, 2, 3, 4, 5, 6]},\n",
       "             pre_dispatch='2*n_jobs', refit=True, return_train_score=False,\n",
       "             scoring=None, verbose=0)"
      ]
     },
     "execution_count": 57,
     "metadata": {},
     "output_type": "execute_result"
    }
   ],
   "source": [
    "'''\n",
    "确定max_depth和min_weight参数\n",
    "我们先对这两个参数调优，因为它们对最终结果有很大的影响。\n",
    "首先，我们先大范围的粗调，\n",
    "然后再小范围的细调,接下来使用高负荷的栅格搜索了（gird search）\n",
    "'''\n",
    "\n",
    "from sklearn.model_selection import GridSearchCV\n",
    "\n",
    "param = {\n",
    "    'max_depth':[1,2,3,4,5,6],\n",
    "    'min_child_weight':[1,2,3,4,5,6]\n",
    "        }\n",
    "\n",
    "grid = GridSearchCV(xgb1,param_grid=param,cv=5)\n",
    "grid.fit(Xtrain,ytrain)"
   ]
  },
  {
   "cell_type": "code",
   "execution_count": 58,
   "metadata": {},
   "outputs": [
    {
     "name": "stdout",
     "output_type": "stream",
     "text": [
      "The Best Params: {'max_depth': 2, 'min_child_weight': 2}\n",
      "The Best Score: 0.9999436560537411\n"
     ]
    }
   ],
   "source": [
    "print('The Best Params:',grid.best_params_)\n",
    "print('The Best Score:',grid.best_score_)"
   ]
  },
  {
   "cell_type": "code",
   "execution_count": 59,
   "metadata": {},
   "outputs": [
    {
     "name": "stdout",
     "output_type": "stream",
     "text": [
      "best_params: {'gamma': 0}\n",
      "best_score: 0.9995482959278078\n"
     ]
    }
   ],
   "source": [
    "#  gamma参数调优\n",
    "\n",
    "xgb1 = XGBRegressor(max_depth=6,\n",
    "                     learning_rate=0.1,\n",
    "                     n_estimators=149,\n",
    "                     silent=False,\n",
    "                     objective='reg:squarederror',\n",
    "                     booster='gbtree',\n",
    "                     n_jobs=4,\n",
    "                     gamma=0,\n",
    "                     min_child_weight=6,\n",
    "                     subsample=0.8,\n",
    "                     colsample_bytree=0.8,\n",
    "                     seed=7)\n",
    "\n",
    "\n",
    "param_grid = {'gamma':[0,1,2,3,4,5,6,7,8,9]}\n",
    "grid_search = GridSearchCV(xgb1,param_grid,cv=5)\n",
    "\n",
    "grid_search.fit(Xtrain,ytrain)\n",
    "print('best_params:',grid_search.best_params_)\n",
    "print('best_score:',grid_search.best_score_)\n",
    "\n"
   ]
  },
  {
   "cell_type": "code",
   "execution_count": null,
   "metadata": {},
   "outputs": [],
   "source": [
    "#  细化参数范围\n",
    "param_grid = {'gamma':[i/10.0 for i in range(0,80)]}\n",
    "grid_search = GridSearchCV(xgb1,param_grid,cv=5)\n",
    "\n",
    "grid_search.fit(Xtrain,ytrain)\n",
    "print('best_params:',grid_search.best_params_)\n",
    "print('best_score:',grid_search.best_score_)"
   ]
  },
  {
   "cell_type": "code",
   "execution_count": null,
   "metadata": {},
   "outputs": [],
   "source": [
    "#  调整subsample与colsample_bytree参数\n",
    "\n",
    "\n",
    "xgb1 = XGBRegressor(max_depth=6,\n",
    "                     learning_rate=0.1,\n",
    "                     n_estimators=149,\n",
    "                     silent=False,\n",
    "                     objective='reg:squarederror',\n",
    "                     booster='gbtree',\n",
    "                     n_jobs=4,\n",
    "                     gamma=5.4,\n",
    "                     min_child_weight=6,\n",
    "                     subsample=0.8,\n",
    "                     colsample_bytree=0.8,\n",
    "                     seed=7)\n",
    "param_grid = {'subsample':[i/10.0 for i in range(5,11)],\n",
    "             'colsample_bytree':[i/10.0 for i in range(1,11)]}\n",
    "grid_search = GridSearchCV(xgb1,param_grid,iid=False,cv=5)\n",
    "\n",
    "grid_search.fit(Xtrain,ytrain)\n",
    "print('best_params:',grid_search.best_params_)\n",
    "print('best_score:',grid_search.best_score_)"
   ]
  },
  {
   "cell_type": "code",
   "execution_count": null,
   "metadata": {},
   "outputs": [],
   "source": [
    "#  调整正则化参数\n",
    "\n",
    "xgb1 = XGBRegressor(max_depth=6,\n",
    "                     learning_rate=0.1,\n",
    "                     n_estimators=149,\n",
    "                     silent=False,\n",
    "                     objective='reg:squarederror',\n",
    "                     booster='gbtree',\n",
    "                     n_jobs=4,\n",
    "                     gamma=5.4,\n",
    "                     min_child_weight=6,\n",
    "                     subsample=0.8,\n",
    "                     colsample_bytree=1,\n",
    "                     seed=7)\n",
    "\n",
    "param_grid = {'reg_lambda':[i/100.0 for i in range(70,200)]}\n",
    "grid_search = GridSearchCV(xgb1,param_grid,iid=False,cv=5)\n",
    "\n",
    "grid_search.fit(Xtrain,ytrain)\n",
    "print('best_params:',grid_search.best_params_)\n",
    "print('best_score:',grid_search.best_score_)\n"
   ]
  },
  {
   "cell_type": "code",
   "execution_count": null,
   "metadata": {},
   "outputs": [],
   "source": [
    "#   最优参数\n",
    "xgb1 = XGBRegressor(max_depth=6,\n",
    "                     learning_rate=0.1,\n",
    "                     n_estimators=149,\n",
    "                     silent=False,\n",
    "                     objective='reg:squarederror',\n",
    "                     booster='gbtree',\n",
    "                     n_jobs=4,\n",
    "                     gamma=5.4,\n",
    "                     min_child_weight=6,\n",
    "                     subsample=0.8,\n",
    "                     colsample_bytree=1,\n",
    "                     reg_lambda=1.39,\n",
    "                     seed=7)\n",
    "#  然后训练模型、测试集预测、获得mse得分\n",
    "xgb1_best1 = xgb1.fit(Xtrain,ytrain)\n",
    "\n",
    "predict = xgb1_best1.predict(Xtest)\n",
    "print('The best mse:',mean_squared_error(ytest,predict))\n",
    "print('The best r2:',r2_score(ytest,predict))\n"
   ]
  },
  {
   "cell_type": "code",
   "execution_count": null,
   "metadata": {},
   "outputs": [],
   "source": [
    "##  在最好的参数的基础上加大树的数量同时减少学习率\n",
    "xgb1 = XGBRegressor(max_depth=6,\n",
    "                     learning_rate=0.01,\n",
    "                     n_estimators=2000,\n",
    "                     silent=False,\n",
    "                     objective='reg:squarederror',\n",
    "                     booster='gbtree',\n",
    "                     n_jobs=4,\n",
    "                     gamma=5.4,\n",
    "                     min_child_weight=6,\n",
    "                     subsample=0.8,\n",
    "                     colsample_bytree=1,\n",
    "                     reg_lambda=1.39,\n",
    "                     seed=7)\n",
    "\n",
    "\n",
    "xgb.cv(xgb1.get_xgb_params(),train_d,xgb1.get_xgb_params()['n_estimators'],nfold=5,\n",
    "      metrics='rmse',early_stopping_rounds=60)"
   ]
  },
  {
   "cell_type": "code",
   "execution_count": null,
   "metadata": {},
   "outputs": [],
   "source": [
    "##  最好的参数的基础上加大树的数量同时寻找最佳的学习率\n",
    "for i in [0.001,0.005,0.01,0.012,0.015,0.018]:\n",
    "    xgb1 = XGBRegressor(max_depth=6,\n",
    "                     learning_rate=0.01,\n",
    "                     n_estimators=1565,\n",
    "                     silent=False,\n",
    "                     objective='reg:squarederror',\n",
    "                     booster='gbtree',\n",
    "                     n_jobs=4,\n",
    "                     gamma=5.4,\n",
    "                     min_child_weight=6,\n",
    "                     subsample=0.8,\n",
    "                     colsample_bytree=1,\n",
    "                     reg_lambda=1.39,\n",
    "                     seed=7)\n",
    "\n",
    "    #  然后训练模型、测试集预测、获得r2得分\n",
    "    xgb1_best2 = xgb1.fit(Xtrain,ytrain)\n",
    "\n",
    "    predicts = xgb1_best2.predict(Xtest)\n",
    "    print(i)\n",
    "    print('最优模型的mse:',mean_squared_error(ytest,predicts))\n",
    "    print('最优模型的r2:',r2_score(ytest,predicts))"
   ]
  },
  {
   "cell_type": "code",
   "execution_count": null,
   "metadata": {},
   "outputs": [],
   "source": [
    "#   最优参数\n",
    "xgb1 = XGBRegressor(max_depth=6,\n",
    "                     learning_rate=0.01,\n",
    "                     n_estimators=1565,\n",
    "                     silent=False,\n",
    "                     objective='reg:squarederror',\n",
    "                     booster='gbtree',\n",
    "                     n_jobs=4,\n",
    "                     gamma=5.4,\n",
    "                     min_child_weight=6,\n",
    "                     subsample=0.8,\n",
    "                     colsample_bytree=1,\n",
    "                     reg_lambda=1.39,\n",
    "                     seed=7)\n",
    "\n",
    "    #  然后训练模型、测试集预测、获得r2得分\n",
    "xgb1_best2 = xgb1.fit(Xtrain,ytrain)\n",
    "\n",
    "predicts = xgb1_best2.predict(Xtest)\n",
    "\n",
    "print('最优模型的mse:',mean_squared_error(ytest,predicts))\n",
    "print('最优模型的r2:',r2_score(ytest,predicts))\n"
   ]
  },
  {
   "cell_type": "code",
   "execution_count": null,
   "metadata": {},
   "outputs": [],
   "source": [
    "model = xgb1.fit(Xtrain,ytrain)"
   ]
  },
  {
   "cell_type": "code",
   "execution_count": null,
   "metadata": {},
   "outputs": [],
   "source": [
    "model.save_model(r'The Best Model')"
   ]
  },
  {
   "cell_type": "code",
   "execution_count": null,
   "metadata": {},
   "outputs": [],
   "source": [
    "pre = model.predict(X_test)"
   ]
  },
  {
   "cell_type": "code",
   "execution_count": null,
   "metadata": {},
   "outputs": [],
   "source": [
    "pd.DataFrame(pre).to_csv(r'resultss.csv',index=False)"
   ]
  },
  {
   "cell_type": "code",
   "execution_count": null,
   "metadata": {},
   "outputs": [],
   "source": []
  },
  {
   "cell_type": "code",
   "execution_count": null,
   "metadata": {},
   "outputs": [],
   "source": []
  }
 ],
 "metadata": {
  "kernelspec": {
   "display_name": "Python [conda env:Miniconda-sklearn]",
   "language": "python",
   "name": "conda-env-Miniconda-sklearn-py"
  },
  "language_info": {
   "codemirror_mode": {
    "name": "ipython",
    "version": 3
   },
   "file_extension": ".py",
   "mimetype": "text/x-python",
   "name": "python",
   "nbconvert_exporter": "python",
   "pygments_lexer": "ipython3",
   "version": "3.7.6"
  }
 },
 "nbformat": 4,
 "nbformat_minor": 4
}
